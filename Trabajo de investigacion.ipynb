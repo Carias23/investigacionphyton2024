{
 "cells": [
  {
   "cell_type": "markdown",
   "id": "c3d1d0df-7cd6-48a7-a223-a63390562abf",
   "metadata": {},
   "source": [
    " #GIT \n",
    "Git se ha convertido en el estándar mundial para el control de versiones. Es un sistema de control de versiones distribuido, lo que significa que un clon local del proyecto es un repositorio de control de versiones completo. Estos repositorios locales plenamente funcionales permiten trabajar sin conexión o de forma remota con facilidad. Los desarrolladores confirman su trabajo localmente y, a continuación, sincronizan su copia del repositorio con la copia en el servidor. Este paradigma es distinto del control de versiones centralizado, donde los clientes deben sincronizar el código con un servidor antes de crear nuevas versiones. \n",
    "\n",
    "#Github\n",
    "\n",
    "Es un portal creado para alojar el código de las aplicaciones de cualquier desarrollador, y que fue comprada por Microsoft en junio del 2018. La plataforma esta creada para que los desarrolladores suban el código de sus aplicaciones y herramientas, y que como usuario no solo puedas descargarte la aplicación, sino también entrar a su perfil para leer sobre ella o colaborar con su desarrollo. \n",
    "\n",
    "Markdown Párrafos y saltos de línea\n",
    "Para generar un nuevo párrafo en Markdown simplemente separa el texto mediante una línea en blanco (pulsando dos veces intro)\n",
    "Al igual que sucede con HTML, Markdown no soporta dobles líneas en blanco, así que si intentas generarlas estas se convertirán en una sola al procesarse.\n",
    "Para realizar un salto de línea y empezar una frase en una línea siguiente dentro del mismo párrafo, tendrás que pulsar dos veces la barra espaciadora antes de pulsar una vez intro.\n",
    "Encabezados\n",
    "Las # almohadillas son uno de los métodos utilizados en Markdown para crear encabezados. Debes usarlos añadiendo uno por cada nivel.\n",
    "Citas\n",
    "Las citas se generar utilizando el carácter mayor que > al comienzo del bloque de texto.\n",
    "Listas\n",
    "A diferencia de lo que ocurre en HTML, generar listas en Markdown es tremendamente sencillo. Puedes encontrarte con dos tipos.\n",
    "Listas desordenadas\n",
    "Para crear listas desordenadas utiliza * asteriscos, - guiones, o + símbolo de suma.\n",
    "Listas ordenadas\n",
    "Para crear listas ordenadas debes utilizar la sintaxis de tipo: «número.» 1.. Al igual que ocurre con las listas desordenadas, también podrás anidarlas o combinarlas.\n",
    "Códigos de bloque\n",
    "Si quieres crear un bloque entero que contenga código. Lo único que tienes que hacer es encerrar dicho párrafo entre dos líneas formadas por tres ~ virgulillas.\n",
    "Reglas horizontales\n",
    "Las reglas horizontales se utilizan para separar secciones de una manera visual. Las estás viendo constantemente en este artículo ya que las estoy utilizando para separar los diferentes elementos de sintaxis de Markdown.\n",
    "Para crearlas, en una línea en blanco deberás incluir tres de los siguientes elementos: asteriscos, guiones, o guiones bajos.\n",
    "Elementos de línea\n",
    "Énfasis (negritas y cursivas)\n",
    "Markdown utiliza asteriscos o guiones bajos para enfatizar.\n",
    "Simplemente tendrás que envolver palabras o textos en éstos símbolos para conseguir cursivas o negritas.\n",
    "Links o enlaces\n",
    "Añadir enlaces a una publicación, más que común, hoy en día es algo casi obligatorio. Con Markdown tendrás varias formas de hacerlo.\n",
    "Links o enlaces en línea\n",
    "Son los enlaces de toda la vida. Como su nombre indica, se encuentran en línea con el texto.\n",
    "Se crean escribiendo la palabra o texto enlazada entre [] corchetes, y el link en cuestión entre () paréntesis.\n",
    "Código\n",
    "En según que tipo de publicaciones (sobre todo las de carácter técnico), necesitarás añadir pequeñas secciones donde mostrar código de otro lenguaje, atajos de teclado, o demás contenido que no debería ser tratado como tal.\n",
    "Para ello tienes disponible dos alternativas.\n",
    "Código puro <code>\n",
    "La forma más sencilla de escribir código en Markdown es envolver el texto entre dos comillas sencillas `. Esto se corresponde con la etiqueta HTML <code>\n",
    "Texto preformateado <pre>\n",
    "La otra manera de añadir código en Markdown es comenzar el párrafo con cuatro espacios en blanco. Esto se corresponde con la etiqueta HTML <pre>\n",
    "Imágenes\n",
    "Insertar una imagen con Markdown se realiza de una manera prácticamente idéntica a insertar links."
   ]
  },
  {
   "cell_type": "code",
   "execution_count": null,
   "id": "9a901fde-99b6-4b8f-847a-5ae6dbf3817a",
   "metadata": {},
   "outputs": [],
   "source": []
  }
 ],
 "metadata": {
  "kernelspec": {
   "display_name": "Python 3 (ipykernel)",
   "language": "python",
   "name": "python3"
  },
  "language_info": {
   "codemirror_mode": {
    "name": "ipython",
    "version": 3
   },
   "file_extension": ".py",
   "mimetype": "text/x-python",
   "name": "python",
   "nbconvert_exporter": "python",
   "pygments_lexer": "ipython3",
   "version": "3.11.5"
  }
 },
 "nbformat": 4,
 "nbformat_minor": 5
}
